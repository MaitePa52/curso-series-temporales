{
  "nbformat": 4,
  "nbformat_minor": 0,
  "metadata": {
    "colab": {
      "name": "SeriesDeTiempoIntrodicción.ipynb",
      "provenance": [],
      "authorship_tag": "ABX9TyPOeUK7ypv1Dde7m9uG8jdG",
      "include_colab_link": true
    },
    "kernelspec": {
      "name": "python3",
      "display_name": "Python 3"
    }
  },
  "cells": [
    {
      "cell_type": "markdown",
      "metadata": {
        "id": "view-in-github",
        "colab_type": "text"
      },
      "source": [
        "<a href=\"https://colab.research.google.com/github/MaitePa52/curso-series-temporales/blob/master/SeriesDeTiempoIntrodicci%C3%B3n.ipynb\" target=\"_parent\"><img src=\"https://colab.research.google.com/assets/colab-badge.svg\" alt=\"Open In Colab\"/></a>"
      ]
    },
    {
      "cell_type": "code",
      "metadata": {
        "id": "DNmi1A282JkU"
      },
      "source": [
        "import pandas as pd \r\n",
        "import numpy as np\r\n",
        "#import matplotlib.pyplot as plt \r\n",
        "#import seaborn as sns\r\n",
        "#sns.set()"
      ],
      "execution_count": 2,
      "outputs": []
    },
    {
      "cell_type": "code",
      "metadata": {
        "id": "i542uuz720Uz"
      },
      "source": [
        "raw_csv_data = pd.read_csv(\"https://raw.githubusercontent.com/MaddoSaru/curso-series-temporales/master/1.%20Introduccion%20a%20las%20series%20temporales/Python/Index2018.csv\")"
      ],
      "execution_count": 3,
      "outputs": []
    }
  ]
}